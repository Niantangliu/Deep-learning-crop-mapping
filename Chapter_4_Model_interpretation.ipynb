{
  "nbformat": 4,
  "nbformat_minor": 0,
  "metadata": {
    "colab": {
      "provenance": []
    },
    "kernelspec": {
      "name": "python3",
      "display_name": "Python 3"
    },
    "language_info": {
      "name": "python"
    }
  },
  "cells": [
    {
      "cell_type": "code",
      "source": [
        "# forked repo for ConvGRU\n",
        "!git clone https://github.com/Niantangliu/ConvGRU.git\n",
        "%cd ConvGRU"
      ],
      "metadata": {
        "id": "3VCoIuEwUQCe"
      },
      "execution_count": null,
      "outputs": []
    },
    {
      "cell_type": "code",
      "source": [
        "import tensorflow as tf\n",
        "tf.compat.v1.disable_eager_execution()\n",
        "#tf.compat.v1.enable_eager_execution()\n",
        "tf.compat.v1.experimental.output_all_intermediates(True)\n",
        "from tensorflow import keras\n",
        "#from keras import Sequential\n",
        "from keras.layers import Conv2D, Conv3D, Flatten, Dense, Reshape, BatchNormalization, ConvLSTM2D,SeparableConv2D,ConvSTAR2D,ConvGRU2D,Add,Subtract,AveragePooling3D, MaxPooling3D, Average\n",
        "from keras.layers import Dropout, Input ,LeakyReLU\n",
        "from keras.layers import concatenate,Concatenate\n",
        "from keras.activations import relu\n",
        "from keras.models import Model\n",
        "from keras.optimizers import Adam\n",
        "from keras.callbacks import ModelCheckpoint\n",
        "#from keras.utils import np_utils\n",
        "from keras.callbacks import EarlyStopping, ModelCheckpoint, TensorBoard\n",
        "from time import time\n",
        "\n",
        "\n",
        "from keras.utils import plot_model\n",
        "\n",
        "from sklearn.decomposition import PCA\n",
        "from sklearn.model_selection import train_test_split\n",
        "from sklearn.metrics import confusion_matrix, accuracy_score, classification_report, cohen_kappa_score\n",
        "\n",
        "from operator import truediv\n",
        "from keras.utils import np_utils\n",
        "\n",
        "from plotly.offline import init_notebook_mode\n",
        "from keras.layers import Bidirectional\n",
        "from keras import regularizers\n",
        "\n",
        "import numpy as np\n",
        "import matplotlib.pyplot as plt\n",
        "from keras.models import load_model\n",
        "import pandas as pd"
      ],
      "metadata": {
        "id": "kglzOMToUTPz"
      },
      "execution_count": null,
      "outputs": []
    },
    {
      "cell_type": "code",
      "source": [
        "model = load_model('/content/gdrive/My Drive/Sentinel-1&2 patches/New train valida test/saved model2/3D-ConvSTAR.h5')"
      ],
      "metadata": {
        "id": "ar0zcNNqUVxu"
      },
      "execution_count": null,
      "outputs": []
    },
    {
      "cell_type": "code",
      "source": [
        "layer_name = 'dense_3'\n",
        "softmax_layer_model = Model(inputs=model.input, outputs=model.get_layer(layer_name).output)"
      ],
      "metadata": {
        "id": "s-Do_xs3UehM"
      },
      "execution_count": null,
      "outputs": []
    },
    {
      "cell_type": "code",
      "source": [
        "val_indices_4 = np.argwhere(test_mask == 4).flatten()\n",
        "patch_4 = test_X[val_indices_4]\n",
        "output_feature4 = softmax_layer_model.predict(patch_4)\n",
        "pd_predict_score4 = pd.DataFrame(output_feature4)"
      ],
      "metadata": {
        "id": "FNu5njsbUofF"
      },
      "execution_count": null,
      "outputs": []
    },
    {
      "cell_type": "code",
      "source": [
        "# Output prediction score for each class\n",
        "predicted_score_maize = pd_predict_score1[1]\n",
        "predicted_score_soybean = pd_predict_score2[2]\n",
        "predicted_score_wheat = pd_predict_score3[3]\n",
        "predicted_score_othercrops = pd_predict_score4[4]"
      ],
      "metadata": {
        "id": "Vu8EEhBrUypH"
      },
      "execution_count": null,
      "outputs": []
    },
    {
      "cell_type": "code",
      "source": [
        "# Plot prediction score\n",
        "plt.figure(figsize=(13,3))\n",
        "\n",
        "####################### maize\n",
        "plt.subplot(1,4,1)\n",
        "plt.hist(\n",
        "            predicted_score_maize,\n",
        "         weights=np.ones_like(predicted_score_maize)/predicted_score_maize.shape[0], bins=10,\n",
        "            color=\"turquoise\", edgecolor=\"lightseagreen\", linewidth=2\n",
        "        )\n",
        "\n",
        "plt.xlabel(\"Prediction confidence\", fontsize = 12)\n",
        "plt.ylabel(\"Percentage\", fontsize = 12)\n",
        "plt.ylim([0, 1])\n",
        "plt.yticks([0, 0.2, 0.4, 0.6, 0.8, 1])\n",
        "plt.title('Maize',fontsize = 15,pad=plt.rcParams[\"axes.titlepad\"]*3)\n",
        "\n",
        "\n",
        "avg = predicted_score_maize.mean()\n",
        "plt.plot([avg, avg], [0, 1], color=\"#F20923\", linestyle=\"--\")\n",
        "plt.annotate(\n",
        "            \"{:.2f}\".format(avg), xy=(avg, 1.03), xycoords=\"axes fraction\",\n",
        "            va=\"bottom\", ha=\"center\", color=\"#F20923\"\n",
        "        )\n",
        "ax = plt.gca()\n",
        "ax.yaxis.grid(True)\n",
        "\n",
        "############ soybean\n",
        "plt.subplot(1,4,2)\n",
        "plt.hist(\n",
        "            predicted_score_soybean,\n",
        "         weights=np.ones_like(predicted_score_soybean)/predicted_score_soybean.shape[0], bins=10,\n",
        "            color=\"turquoise\", edgecolor=\"lightseagreen\", linewidth=2\n",
        "        )\n",
        "\n",
        "plt.xlabel(\"Prediction confidence\", fontsize = 12)\n",
        "plt.ylabel(\"Percentage\", fontsize = 12)\n",
        "plt.ylim([0, 1])\n",
        "plt.yticks([0, 0.2, 0.4, 0.6, 0.8, 1])\n",
        "plt.title('Soybean',fontsize = 15,pad=plt.rcParams[\"axes.titlepad\"]*3)\n",
        "\n",
        "\n",
        "avg = predicted_score_soybean.mean()\n",
        "plt.plot([avg, avg], [0, 1], color=\"#F20923\", linestyle=\"--\")\n",
        "plt.annotate(\n",
        "            \"{:.2f}\".format(avg), xy=(avg, 1.03), xycoords=\"axes fraction\",\n",
        "            va=\"bottom\", ha=\"center\", color=\"#F20923\"\n",
        "        )\n",
        "ax = plt.gca()\n",
        "ax.yaxis.grid(True)\n",
        "\n",
        "\n",
        "######################## wheat\n",
        "plt.subplot(1,4,3)\n",
        "plt.hist(\n",
        "            predicted_score_wheat,\n",
        "         weights=np.ones_like(predicted_score_wheat)/predicted_score_wheat.shape[0], bins=10,\n",
        "            color=\"turquoise\", edgecolor=\"lightseagreen\", linewidth=2\n",
        "        )\n",
        "\n",
        "plt.xlabel(\"Prediction confidence\", fontsize = 12)\n",
        "plt.ylabel(\"Percentage\", fontsize = 12)\n",
        "plt.ylim([0, 1])\n",
        "plt.yticks([0, 0.2, 0.4, 0.6, 0.8, 1])\n",
        "plt.title('Wheat',fontsize = 15,pad=plt.rcParams[\"axes.titlepad\"]*3)\n",
        "\n",
        "\n",
        "avg = predicted_score_wheat.mean()\n",
        "plt.plot([avg, avg], [0, 1], color=\"#F20923\", linestyle=\"--\")\n",
        "plt.annotate(\n",
        "            \"{:.2f}\".format(avg), xy=(avg, 1.03), xycoords=\"axes fraction\",\n",
        "            va=\"bottom\", ha=\"center\", color=\"#F20923\"\n",
        "        )\n",
        "ax = plt.gca()\n",
        "ax.yaxis.grid(True)\n",
        "\n",
        "\n",
        "############# other crops\n",
        "plt.subplot(1,4,4)\n",
        "plt.hist(\n",
        "            predicted_score_othercrops,\n",
        "         weights=np.ones_like(predicted_score_othercrops)/predicted_score_othercrops.shape[0], bins=10,\n",
        "            color=\"turquoise\", edgecolor=\"lightseagreen\", linewidth=2\n",
        "        )\n",
        "\n",
        "plt.xlabel(\"Prediction confidence\", fontsize = 12)\n",
        "plt.ylabel(\"Percentage\", fontsize = 12)\n",
        "plt.ylim([0, 1])\n",
        "plt.yticks([0, 0.2, 0.4, 0.6, 0.8, 1])\n",
        "plt.title('Other crops',fontsize = 15,pad=plt.rcParams[\"axes.titlepad\"]*3)\n",
        "\n",
        "avg = predicted_score_othercrops.mean()\n",
        "plt.plot([avg, avg], [0, 1], color=\"#F20923\", linestyle=\"--\")\n",
        "plt.annotate(\n",
        "            \"{:.2f}\".format(avg), xy=(avg, 1.03), xycoords=\"axes fraction\",\n",
        "            va=\"bottom\", ha=\"center\", color=\"#F20923\"\n",
        "        )\n",
        "ax = plt.gca()\n",
        "ax.yaxis.grid(True)\n",
        "\n",
        "plt.tight_layout()\n",
        "plt.savefig('gdrive/My Drive/Sentinel-1&2 patches/Saved Model&plots/confidence map.png', bbox_inches = 'tight', dpi=600)\n"
      ],
      "metadata": {
        "colab": {
          "base_uri": "https://localhost:8080/",
          "height": 225
        },
        "id": "Nh8c4d9xfrop",
        "outputId": "9fb76246-3dcc-4b39-9fc2-85227186ab90"
      },
      "execution_count": null,
      "outputs": [
        {
          "output_type": "display_data",
          "data": {
            "text/plain": [
              "<Figure size 936x216 with 4 Axes>"
            ],
            "image/png": "[encoded data removed]"
          },
          "metadata": {
            "needs_background": "light"
          }
        }
      ]
    }
  ]
}