{
  "nbformat": 4,
  "nbformat_minor": 0,
  "metadata": {
    "colab": {
      "provenance": []
    },
    "kernelspec": {
      "name": "python3",
      "display_name": "Python 3"
    },
    "language_info": {
      "name": "python"
    }
  },
  "cells": [
    {
      "cell_type": "code",
      "source": [
        "# forked repo for ConvGRU, this repo includes ConvSTAR module that I modified based on ConvGRU\n",
        "!git clone https://github.com/Niantangliu/ConvGRU.git\n",
        "%cd ConvGRU"
      ],
      "metadata": {
        "id": "zMrrma0fHlsf"
      },
      "execution_count": null,
      "outputs": []
    },
    {
      "cell_type": "code",
      "source": [
        "import tensorflow as tf\n",
        "tf.compat.v1.disable_eager_execution()\n",
        "#tf.compat.v1.enable_eager_execution()\n",
        "tf.compat.v1.experimental.output_all_intermediates(True)\n",
        "from tensorflow import keras\n",
        "#from keras import Sequential\n",
        "from keras.layers import Conv2D, Conv3D, Flatten, Dense, Reshape, BatchNormalization, ConvLSTM2D,SeparableConv2D,ConvSTAR2D,ConvGRU2D,Add,Subtract,AveragePooling3D, MaxPooling3D, Average\n",
        "from keras.layers import Dropout, Input ,LeakyReLU\n",
        "from keras.layers import concatenate,Concatenate\n",
        "from keras.activations import relu\n",
        "from keras.models import Model\n",
        "from keras.optimizers import Adam\n",
        "from keras.callbacks import ModelCheckpoint\n",
        "#from keras.utils import np_utils\n",
        "from keras.callbacks import EarlyStopping, ModelCheckpoint, TensorBoard\n",
        "from time import time\n",
        "\n",
        "\n",
        "from keras.utils import plot_model\n",
        "\n",
        "from sklearn.decomposition import PCA\n",
        "from sklearn.model_selection import train_test_split\n",
        "from sklearn.metrics import confusion_matrix, accuracy_score, classification_report, cohen_kappa_score\n",
        "\n",
        "from operator import truediv\n",
        "from keras.utils import np_utils\n",
        "\n",
        "from plotly.offline import init_notebook_mode\n",
        "from keras.layers import Bidirectional\n",
        "from keras import regularizers\n",
        "\n",
        "import numpy as np\n",
        "import matplotlib.pyplot as plt"
      ],
      "metadata": {
        "id": "ZVax1-KNHqqe"
      },
      "execution_count": null,
      "outputs": []
    },
    {
      "cell_type": "markdown",
      "source": [
        "# 3D-2D CNN"
      ],
      "metadata": {
        "id": "psskTZsUHOhD"
      }
    },
    {
      "cell_type": "code",
      "execution_count": null,
      "metadata": {
        "id": "JtAyNKBOFuTk"
      },
      "outputs": [],
      "source": [
        "\n",
        "input_layer = Input((11,11,26,3))\n",
        "## convolutional layers\n",
        "conv_layer1 = Conv3D(filters=32, kernel_size=(3, 3, 3),activation='relu')(input_layer)\n",
        "bn1 = BatchNormalization()(conv_layer1)\n",
        "conv_layer2 = Conv3D(filters=32, kernel_size=(3, 3, 3) ,activation='relu')(bn1)\n",
        "bn2 = BatchNormalization()(conv_layer2)\n",
        "conv_layer3 = Conv3D(filters=64, kernel_size=(3, 3, 3),activation='relu')(bn2)\n",
        "bn3 = BatchNormalization()(conv_layer3)\n",
        "#print(conv_layer3._keras_shape)\n",
        "conv3d_shape = conv_layer3.shape\n",
        "conv_layer4 = Reshape((conv3d_shape[1], conv3d_shape[2], 20*conv3d_shape[4]))(bn3)\n",
        "conv_layer5 = Conv2D(filters=128, kernel_size=(3,3), activation='relu')(conv_layer4)\n",
        "bn4 = BatchNormalization()(conv_layer5)\n",
        "\n",
        "flatten_layer = Flatten()(bn4)\n",
        "\n",
        "## fully connected layers\n",
        "dense_layer1 = Dense(units=256, activation='relu')(flatten_layer)\n",
        "dense_layer2 = Dense(units=128, activation='relu')(dense_layer1)\n",
        "output_layer = Dense(units=5, activation='softmax')(dense_layer2)"
      ]
    },
    {
      "cell_type": "markdown",
      "source": [
        "# 3D-CNN"
      ],
      "metadata": {
        "id": "sxDZegpBHVqB"
      }
    },
    {
      "cell_type": "code",
      "source": [
        "\n",
        "input_layer = Input((11,11,26,3))\n",
        "\n",
        "conv_layer1 = Conv3D(filters=32, kernel_size=(3, 3, 3), activation='relu', padding='same')(input_layer)\n",
        "p1 = MaxPooling3D(pool_size = (2,2,1))(conv_layer1)\n",
        "conv_layer2 = Conv3D(filters=32, kernel_size=(3, 3, 3), activation='relu', padding='same')(p1)\n",
        "p2 = MaxPooling3D(pool_size = (2,2,1))(conv_layer2)\n",
        "conv_layer3 = Conv3D(filters=64, kernel_size=(3, 3, 3), activation='relu', padding='same')(p2)\n",
        "p3 = MaxPooling3D(pool_size = (2,2,1))(conv_layer3)\n",
        "\n",
        "flatten_layer = Flatten()(p3)\n",
        "dense_layer= Dense(units=64, activation='relu')(flatten_layer)\n",
        "output_layer = Dense(units=5, activation='softmax')(dense_layer)\n"
      ],
      "metadata": {
        "id": "EPh18eWPGzrq"
      },
      "execution_count": null,
      "outputs": []
    },
    {
      "cell_type": "markdown",
      "source": [
        "# TCNN"
      ],
      "metadata": {
        "id": "24RDLfwdgQX2"
      }
    },
    {
      "cell_type": "code",
      "source": [
        "input_layer = Input((26,3))\n",
        "conv_layer1 = Conv1D(filters = 64, kernel_size = 5)(input_layer)\n",
        "Dplayer1 = Dropout(0.5)(conv_layer1)\n",
        "conv_layer2 = Conv1D(filters = 64, kernel_size = 5)(Dplayer1)\n",
        "Dplayer2 = Dropout(0.5)(conv_layer2)\n",
        "conv_layer3 = Conv1D(filters = 64, kernel_size = 5)(Dplayer2)\n",
        "Dplayer3 = Dropout(0.5)(conv_layer3)\n",
        "\n",
        "flatten_layer = Flatten()(Dplayer3)\n",
        "dense_layer = Dense(units=512, activation='relu')(flatten_layer)\n",
        "Dplayer4 = Dropout(0.5)(dense_layer)\n",
        "\n",
        "output_layer = Dense(units=5, activation='softmax')(Dplayer4)"
      ],
      "metadata": {
        "id": "Vg2SscjrgUGe"
      },
      "execution_count": null,
      "outputs": []
    },
    {
      "cell_type": "markdown",
      "source": [
        "# ConvSTAR"
      ],
      "metadata": {
        "id": "omvgqzrMHZrP"
      }
    },
    {
      "cell_type": "code",
      "source": [
        "input_layer = Input((11,11,26,3))\n",
        "x = Reshape((26,11,11,3))(input_layer)\n",
        "## convolutional layers\n",
        "conv_layer1 = ConvSTAR2D(filters=64, kernel_size=(3, 3),activation='relu',return_sequences=True)(x)\n",
        "conv_layer2 = ConvSTAR2D(filters=64, kernel_size=(3, 3) ,activation='relu',return_sequences=True)(conv_layer1)\n",
        "conv_layer3 = ConvSTAR2D(filters=64, kernel_size=(3, 3) ,activation='relu')(conv_layer2)\n",
        "\n",
        "#conv_layer4 = Conv2D(filters=64, kernel_size=(3,3), activation='relu')(conv_layer3)\n",
        "#conv_layer5 = Conv2D(filters=64, kernel_size=(3,3), activation='relu')(conv_layer4)\n",
        "\n",
        "flatten_layer = Flatten()(conv_layer3)\n",
        "\n",
        "## fully connected layers\n",
        "# dense_layer1 = Dense(units=256, activation='relu')(flatten_layer)\n",
        "# dense_layer1 = Dropout(0.4)(dense_layer1)\n",
        "dense_layer2 = Dense(units=64, activation='relu')(flatten_layer)\n",
        "dense_layer2 = Dropout(0.4)(dense_layer2)\n",
        "output_layer = Dense(units=5, activation='softmax')(dense_layer2)"
      ],
      "metadata": {
        "id": "8YeVjjNqHMd2"
      },
      "execution_count": null,
      "outputs": []
    },
    {
      "cell_type": "markdown",
      "source": [
        "# 3D-ConvSTAR"
      ],
      "metadata": {
        "id": "6f06gFgDHixa"
      }
    },
    {
      "cell_type": "code",
      "source": [
        "input_layer = Input((11,11,26,3))\n",
        "## convolutional layers\n",
        "conv_layer1 = Conv3D(filters=32, kernel_size=(3, 3, 3),strides=(1, 1, 1),activation='relu',padding='same')(input_layer)\n",
        "#Dp1 = Dropout(0.4)(conv_layer1)\n",
        "conv_layer2 = Conv3D(filters=32, kernel_size=(3, 3, 3),strides=(1, 1, 1),activation='relu',padding='same')(conv_layer1)\n",
        "#Dp2 = Dropout(0.4)(conv_layer2)\n",
        "conv_layer3 = Conv3D(filters=64, kernel_size=(3, 3, 3),strides=(1, 1, 1),activation='relu',padding='same')(conv_layer2)\n",
        "#Dp3 = Dropout(0.4)(conv_layer3)\n",
        "\n",
        "x = Reshape((26,11,11,64))(conv_layer3)\n",
        "x = Bidirectional(ConvSTAR2D(filters=64, kernel_size=(3, 3),activation='relu', return_sequences=True),merge_mode='sum')(x)\n",
        "x = Bidirectional(ConvSTAR2D(filters=64, kernel_size=(3, 3),activation='relu', return_sequences=True),merge_mode='sum')(x)\n",
        "x = Bidirectional(ConvSTAR2D(filters=64, kernel_size=(3, 3),activation='relu', return_sequences=True),merge_mode='sum')(x)\n",
        "\n",
        "#Dp4 = Dropout(0.4)(x)\n",
        "\n",
        "#x = Bidirectional(ConvSTAR2D(filters=64, kernel_size=(3, 3),activation='relu', return_sequences=True),merge_mode='sum')(x)\n",
        "#x = Bidirectional(ConvSTAR2D(filters=64, kernel_size=(3, 3),activation='relu',return_sequences=True),merge_mode='sum')(x)\n",
        "\n",
        "conv3d_shape = x.shape\n",
        "conv2d = Reshape((conv3d_shape[2], conv3d_shape[3], 26*conv3d_shape[4]))(x)\n",
        "conv_layer4 = Conv2D(filters=64, kernel_size=(3,3), activation='relu')(conv2d)\n",
        "#Dp5 = Dropout(0.4)(conv_layer4)\n",
        "\n",
        "\n",
        "flatten_layer = Flatten()(conv_layer4)\n",
        "\n",
        "dense_layer1 = Dense(units=256, activation='relu')(flatten_layer)\n",
        "dense_layer1 = Dropout(0.4)(dense_layer1)\n",
        "dense_layer2 = Dense(units=128, activation='relu')(dense_layer1)\n",
        "dense_layer2 = Dropout(0.4)(dense_layer2)\n",
        "output_layer = Dense(units=5, activation='softmax')(dense_layer2)"
      ],
      "metadata": {
        "id": "dIGMGu-DGVpU"
      },
      "execution_count": null,
      "outputs": []
    }
  ]
}